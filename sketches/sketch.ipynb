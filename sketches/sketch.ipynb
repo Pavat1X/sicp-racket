{
 "cells": [
  {
   "cell_type": "markdown",
   "metadata": {},
   "source": [
    "this is my sketchbook in Python to understand how the algorithms in the book work"
   ]
  },
  {
   "cell_type": "code",
   "execution_count": 1,
   "metadata": {},
   "outputs": [],
   "source": [
    "def fib(n):\n",
    "    if n < 2:\n",
    "        return n\n",
    "    else:\n",
    "        return fib(n-1) + fib(n-2)"
   ]
  },
  {
   "cell_type": "code",
   "execution_count": null,
   "metadata": {},
   "outputs": [],
   "source": [
    "def fibCache(n):\n",
    "    cache = {\n",
    "        0: 0,\n",
    "        1: 1\n",
    "    }\n",
    "\n",
    "    if n in cache:\n",
    "        return cache[n]\n",
    "    else:\n",
    "        cache[n] = fib(n - 1) + fib(n - 2)\n",
    "        return cache[n]"
   ]
  },
  {
   "cell_type": "code",
   "execution_count": null,
   "metadata": {},
   "outputs": [],
   "source": [
    "def fibIter(n):\n",
    "    ans = [0, 1]\n",
    "    for i in range(2, n + 1):\n",
    "        res = ans[i-1] + ans[i-2]\n",
    "        ans.append(res)\n",
    "    ans.pop(1)\n",
    "    return ans[n-1]"
   ]
  },
  {
   "cell_type": "code",
   "execution_count": null,
   "metadata": {},
   "outputs": [],
   "source": [
    "def fibIterAlt(a: int, b: int, count: int) -> int:\n",
    "    if count == 0:\n",
    "        return b\n",
    "    else:\n",
    "        return fibIterAlt(a + b, a, count - 1)\n",
    "\n",
    "def fibAlt(n:int) -> int:\n",
    "    return fibIterAlt(1, 0, n)    "
   ]
  },
  {
   "cell_type": "code",
   "execution_count": null,
   "metadata": {},
   "outputs": [],
   "source": [
    "def firstDenomWays(types: int) -> int:\n",
    "    #first type is the smallest of the bunch, which depends on how many types of coins there are\n",
    "    if types > 5:\n",
    "        raise Exception(\"type system only accommodates up to 5\")\n",
    "    else: \n",
    "        if types == 1:\n",
    "            return 1\n",
    "        elif types == 2:\n",
    "            return 5\n",
    "        elif types == 3:\n",
    "            return 10\n",
    "        elif types == 4:\n",
    "            return 25\n",
    "        elif types == 5:\n",
    "            return 50\n",
    "\n",
    "def cc(amount: int, types: int) -> int:\n",
    "    if amount == 0:\n",
    "        return 1\n",
    "    elif (amount < 0) or (types == 0):\n",
    "        return 0\n",
    "    else:\n",
    "        return cc(amount, types - 1) + cc(amount - firstDenomWays(types), types)\n",
    "    \n",
    "\n",
    "\n",
    "#ways to count change with a 5 types of coin system\n",
    "def countChange(amount):\n",
    "    return cc(amount, 5)"
   ]
  }
 ],
 "metadata": {
  "kernelspec": {
   "display_name": ".venv",
   "language": "python",
   "name": "python3"
  },
  "language_info": {
   "codemirror_mode": {
    "name": "ipython",
    "version": 3
   },
   "file_extension": ".py",
   "mimetype": "text/x-python",
   "name": "python",
   "nbconvert_exporter": "python",
   "pygments_lexer": "ipython3",
   "version": "3.12.3"
  }
 },
 "nbformat": 4,
 "nbformat_minor": 2
}
