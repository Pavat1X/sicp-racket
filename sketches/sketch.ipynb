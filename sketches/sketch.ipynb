{
 "cells": [
  {
   "cell_type": "markdown",
   "metadata": {},
   "source": [
    "this is my sketchbook in Python to understand how the algorithms in the book work"
   ]
  },
  {
   "cell_type": "code",
   "execution_count": 1,
   "metadata": {},
   "outputs": [],
   "source": [
    "def fib(n):\n",
    "    if n < 2:\n",
    "        return n\n",
    "    else:\n",
    "        return fib(n-1) + fib(n-2)"
   ]
  },
  {
   "cell_type": "code",
   "execution_count": null,
   "metadata": {},
   "outputs": [],
   "source": [
    "def fibCache(n):\n",
    "    cache = {\n",
    "        0: 0,\n",
    "        1: 1\n",
    "    }\n",
    "\n",
    "    if n in cache:\n",
    "        return cache[n]\n",
    "    else:\n",
    "        cache[n] = fib(n - 1) + fib(n - 2)\n",
    "        return cache[n]"
   ]
  },
  {
   "cell_type": "code",
   "execution_count": null,
   "metadata": {},
   "outputs": [],
   "source": [
    "def fibIter(n):\n",
    "    ans = [0, 1]\n",
    "    for i in range(2, n + 1):\n",
    "        res = ans[i-1] + ans[i-2]\n",
    "        ans.append(res)\n",
    "    ans.pop(1)\n",
    "    return ans[n-1]"
   ]
  },
  {
   "cell_type": "code",
   "execution_count": null,
   "metadata": {},
   "outputs": [],
   "source": [
    "def fibIterAlt(a: int, b: int, count: int) -> int:\n",
    "    if count == 0:\n",
    "        return b\n",
    "    else:\n",
    "        return fibIterAlt(a + b, a, count - 1)\n",
    "\n",
    "def fibAlt(n:int) -> int:\n",
    "    return fibIterAlt(1, 0, n)    "
   ]
  },
  {
   "cell_type": "code",
   "execution_count": null,
   "metadata": {},
   "outputs": [],
   "source": [
    "def firstDenomWays(types: int) -> int:\n",
    "    #first type is the smallest of the bunch, which depends on how many types of coins there are\n",
    "    if types > 5:\n",
    "        raise Exception(\"type system only accommodates up to 5\")\n",
    "    else: \n",
    "        if types == 1:\n",
    "            return 1\n",
    "        elif types == 2:\n",
    "            return 5\n",
    "        elif types == 3:\n",
    "            return 10\n",
    "        elif types == 4:\n",
    "            return 25\n",
    "        elif types == 5:\n",
    "            return 50\n",
    "\n",
    "def cc(amount: int, types: int) -> int:\n",
    "    if amount == 0:\n",
    "        return 1\n",
    "    elif (amount < 0) or (types == 0):\n",
    "        return 0\n",
    "    else:\n",
    "        return cc(amount, types - 1) + cc(amount - firstDenomWays(types), types)\n",
    "    \n",
    "\n",
    "\n",
    "#ways to count change with a 5 types of coin system\n",
    "def countChange(amount):\n",
    "    return cc(amount, 5)"
   ]
  },
  {
   "cell_type": "code",
   "execution_count": 2,
   "metadata": {},
   "outputs": [
    {
     "data": {
      "text/plain": [
       "1892"
      ]
     },
     "execution_count": 2,
     "metadata": {},
     "output_type": "execute_result"
    },
    {
     "name": "stderr",
     "output_type": "stream",
     "text": [
      "Bad pipe message: %s [b'\"Not:A-Brand\";v=\"24\", \"Chromium\";v=\"134\"\\r\\nsec-ch-ua-mobil']\n",
      "Bad pipe message: %s [b' ?0\\r\\nsec-ch-ua-platform: \"Windows\"\\r\\nDNT: 1\\r\\nUpgrade-Insecure-Requests: 1\\r\\nUser-Agent: Mozilla/5.0 (W']\n",
      "Bad pipe message: %s [b'dows NT 10.0; Win64; x64) AppleWebKit/537.36 (KHTML, like Gecko) Chrome/134.0.0.0 Safari/537.36\\r\\nAccept:']\n",
      "Bad pipe message: %s [b'ext/html,application/xhtml+xml,']\n",
      "Bad pipe message: %s [b'plication/xml;q=0.9,image/avif,image/webp,image/apng,*/*;q=0.8,application/signed-exchange;v=b3;']\n",
      "Bad pipe message: %s [b'ol: max-age=0\\r\\nsec-ch-ua: \"Not:A-Brand\";v=\"24\", \"Chromium\";v=\"134\"\\r\\nsec-ch-ua-mobile: ?0\\r\\nsec-ch-ua-platform: \"Wind']\n",
      "Bad pipe message: %s [b's\"\\r\\nDNT: 1\\r\\nUpgrade-Insecure-Requests: 1\\r\\nUser-Agent: Mozilla/5.0 (Windows NT 10.0; Win64; x64) AppleWebKit/53', b'36 (KHTML, like Gecko) Chrome/134.0.0.0 Safari/537.36\\r']\n",
      "Bad pipe message: %s [b'ccept: te', b'/html,application/xhtml+xml,application/xml;q=0.9,image/avif,image/webp,image/apng,*/*;q=0.8,application/signed-exchang']\n",
      "Bad pipe message: %s [b'ol: max-age=0\\r\\nsec-ch-ua: \"Not:A-Brand\";v=\"24\", \"Chromium\";v=\"134\"\\r\\nsec-ch-ua-mobile: ?0\\r\\nsec-ch-ua-platform: \"Wind']\n",
      "Bad pipe message: %s [b's\"\\r\\nUpgrade-Insecure-Requests: 1\\r\\nDNT: 1\\r\\nUser-Agent: Mozilla/5.0 (Windows NT 10.0; Win64; x64) AppleWebKit/53', b'36 (KHTML, like Gecko) Chrome/134.0.0.0 Safari/537.36\\r']\n",
      "Bad pipe message: %s [b'ccept: te', b'/html,application/xhtml+xml,application/xml;q=0.9,image/avif,image/webp,image/apng,*/*;q=0.8,application/signed-exchang']\n",
      "Bad pipe message: %s [b'v=b3;q=0.7\\r\\nSec-Fetch-Site: cross-site\\r\\nSec-Fetch-Mode: navigate\\r\\nSec-Fetch-User: ?1\\r\\nSec-Fetch-Dest', b'document\\r\\nAccept-Encoding: gzip, deflate, br, zstd\\r\\nAccep']\n"
     ]
    }
   ],
   "source": [
    "def f(n):\n",
    "    if n < 3:\n",
    "        return n\n",
    "    else:\n",
    "        return f(n - 1) + (2 * f(n - 2)) + (3 * f(n - 3))\n",
    "    \n",
    "f(10)"
   ]
  },
  {
   "cell_type": "code",
   "execution_count": null,
   "metadata": {},
   "outputs": [],
   "source": []
  }
 ],
 "metadata": {
  "kernelspec": {
   "display_name": ".venv",
   "language": "python",
   "name": "python3"
  },
  "language_info": {
   "codemirror_mode": {
    "name": "ipython",
    "version": 3
   },
   "file_extension": ".py",
   "mimetype": "text/x-python",
   "name": "python",
   "nbconvert_exporter": "python",
   "pygments_lexer": "ipython3",
   "version": "3.12.3"
  }
 },
 "nbformat": 4,
 "nbformat_minor": 2
}
